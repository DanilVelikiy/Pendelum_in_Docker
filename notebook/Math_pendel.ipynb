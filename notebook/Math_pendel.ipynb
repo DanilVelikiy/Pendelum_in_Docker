{
 "cells": [
  {
   "cell_type": "code",
   "execution_count": 6,
   "id": "9af5c65c-1b74-4ee9-bb22-50508636cd38",
   "metadata": {},
   "outputs": [
    {
     "data": {
      "application/vnd.jupyter.widget-view+json": {
       "model_id": "7488f0b5a60a4e76b30122c819dc4da1",
       "version_major": 2,
       "version_minor": 0
      },
      "text/plain": [
       "interactive(children=(IntSlider(value=7, description='omega0', max=21, min=-7), IntSlider(value=3, description…"
      ]
     },
     "metadata": {},
     "output_type": "display_data"
    }
   ],
   "source": [
    "%matplotlib inline\n",
    "\n",
    "from ipywidgets import interact\n",
    "import matplotlib.pyplot as plt\n",
    "import math as m\n",
    "\n",
    "@interact(omega0 = 7, delta = 3)\n",
    "\n",
    "def mpendl(omega0, delta):\n",
    "    fig, ax = plt.subplots()\n",
    "\n",
    "    x0 = 10\n",
    "    omega0 = omega0/1000\n",
    "    delta = delta/10000\n",
    "\n",
    "    x = []\n",
    "    y = []\n",
    "    for i in range(0,500000):\n",
    "        t = i/25\n",
    "        amp = x0*m.exp(-delta*t)\n",
    "        omega = m.sqrt(omega0*omega0 - delta*delta)\n",
    "        x.append(t)\n",
    "        y.append(amp*m.cos(omega*t))\n",
    "\n",
    "    ax.plot(x, y)"
   ]
  },
  {
   "cell_type": "code",
   "execution_count": null,
   "id": "e965c177-8cae-4b37-99f9-1ab95856ad3f",
   "metadata": {},
   "outputs": [],
   "source": []
  }
 ],
 "metadata": {
  "kernelspec": {
   "display_name": "Python 3 (ipykernel)",
   "language": "python",
   "name": "python3"
  },
  "language_info": {
   "codemirror_mode": {
    "name": "ipython",
    "version": 3
   },
   "file_extension": ".py",
   "mimetype": "text/x-python",
   "name": "python",
   "nbconvert_exporter": "python",
   "pygments_lexer": "ipython3",
   "version": "3.9.2"
  }
 },
 "nbformat": 4,
 "nbformat_minor": 5
}
