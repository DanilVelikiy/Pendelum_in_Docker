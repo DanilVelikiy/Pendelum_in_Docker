{
 "cells": [
  {
   "cell_type": "code",
   "execution_count": 10,
   "id": "fdaafce6-4e33-4f1d-8b36-749ce747031b",
   "metadata": {},
   "outputs": [
    {
     "data": {
      "application/vnd.jupyter.widget-view+json": {
       "model_id": "5d78df4e576a47d1adc09f51fde41c03",
       "version_major": 2,
       "version_minor": 0
      },
      "text/plain": [
       "interactive(children=(FloatSlider(value=0.25, description='d_pend', max=0.5, min=0.001, step=0.001), FloatSlid…"
      ]
     },
     "metadata": {},
     "output_type": "display_data"
    }
   ],
   "source": [
    "# команда установления бэкенда matplotlib как встроенного бэкенда,\n",
    "# что позволяет выводить графики в этом же ноутбуке под кодом\n",
    "%matplotlib inline\n",
    "\n",
    "# подключение интерфейса ползунков из библиотеки пользовательских интерфейсов\n",
    "from ipywidgets import interact\n",
    "# импортируем модуль pyplot для построения графиков из библиотеки matplotlib\n",
    "import matplotlib.pyplot as plt\n",
    "# импортируем библиотеку математических вычислений numpy\n",
    "import numpy as np\n",
    "\n",
    "# декоратор, оборачиваем функцию построения маятника в функцию интерактивного ползунка\n",
    "# задаем диапазоны (min, max, step)\n",
    "# beta - характеристика среды определяющая насколько сильным будет затухание\n",
    "# m_pend - масса тела на подвесе\n",
    "# lenght_pend - длина подвеса математического маятника\n",
    "@interact (d_pend = (0.001, 0.5, 0.001), m_pend = (0.1, 10, 0.1), lenght_pend = (0.1, 10, 0.1))\n",
    "\n",
    "# ключевой инструкцией def определяем функцию с параметрами\n",
    "def mpendl(d_pend, m_pend, lenght_pend):\n",
    "# создание переменной fig, ссылающейся на объект figure - холст для графиков\n",
    "# создание переменной ax, ссылающейся на объект axec - двухмерный график с осями\n",
    "    fig, ax = plt.subplots()\n",
    "\n",
    "# часть задания начальных условий\n",
    "# начальное положение маятника, начальная амплитуда\n",
    "    x0 = 0.5\n",
    "# ускорение свободного падения\n",
    "    g = 9.81\n",
    "# основная частота - частота иделального маятника без затуханий\n",
    "    omega0 = np.sqrt(g/lenght_pend)\n",
    "# характеристика затухания маятника\n",
    "    n_sredy = 1.8*10**(-3)\n",
    "    beta = 3*np.pi*d_pend*n_sredy\n",
    "    delta = beta / (2*m_pend)\n",
    "\n",
    "# расчетная часть\n",
    "# создается одномерный массив значений по оси x (нач.знач, конеч.знач, количество значений)\n",
    "    x = np.linspace(0, 2000, 100000)\n",
    "# расчет массива значений оси у по формулам математического затухающего маятника\n",
    "    y = x0*np.exp(-delta*x)*np.cos(np.sqrt(omega0**2 - delta**2)*x)\n",
    "# построение графика по начниям\n",
    "    ax.plot(x, y)"
   ]
  },
  {
   "cell_type": "code",
   "execution_count": null,
   "id": "7564a4c3-afa6-44e5-a661-485a1bd5fe0e",
   "metadata": {},
   "outputs": [],
   "source": []
  }
 ],
 "metadata": {
  "kernelspec": {
   "display_name": "Python 3 (ipykernel)",
   "language": "python",
   "name": "python3"
  },
  "language_info": {
   "codemirror_mode": {
    "name": "ipython",
    "version": 3
   },
   "file_extension": ".py",
   "mimetype": "text/x-python",
   "name": "python",
   "nbconvert_exporter": "python",
   "pygments_lexer": "ipython3",
   "version": "3.9.2"
  }
 },
 "nbformat": 4,
 "nbformat_minor": 5
}
