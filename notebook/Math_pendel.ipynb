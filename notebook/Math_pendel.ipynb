{
 "cells": [
  {
   "cell_type": "code",
   "execution_count": 25,
   "id": "fdaafce6-4e33-4f1d-8b36-749ce747031b",
   "metadata": {},
   "outputs": [
    {
     "data": {
      "application/vnd.jupyter.widget-view+json": {
       "model_id": "0418a7ae73184b309e6c453a98ae4aea",
       "version_major": 2,
       "version_minor": 0
      },
      "text/plain": [
       "interactive(children=(IntSlider(value=5, description='graphics_quality', max=10, min=1), IntSlider(value=5000,…"
      ]
     },
     "metadata": {},
     "output_type": "display_data"
    }
   ],
   "source": [
    "# команда установления бэкенда matplotlib как встроенного бэкенда,\n",
    "# что позволяет выводить графики в этом же ноутбуке под кодом\n",
    "%matplotlib inline\n",
    "\n",
    "# подключение интерфейса ползунков из библиотеки пользовательских интерфейсов\n",
    "from ipywidgets import interact\n",
    "# импортируем модуль pyplot для построения графиков из библиотеки matplotlib\n",
    "import matplotlib.pyplot as plt\n",
    "# импортируем библиотеку математических вычислений numpy\n",
    "import numpy as np\n",
    "\n",
    "# декоратор, оборачиваем функцию построения маятника в функцию интерактивного ползунка\n",
    "# задаем диапазоны (min, max, step)\n",
    "# beta - характеристика среды определяющая насколько сильным будет затухание\n",
    "# m_pend - масса тела на подвесе\n",
    "# lenght_pend - длина подвеса математического маятника\n",
    "@interact (graphics_quality=(1, 10), x_max=(100, 10000, 100), d_pend = (0.001, 0.5, 0.001), m_pend = (0.1, 10, 0.1), lenght_pend = (0.1, 10, 0.1))\n",
    "\n",
    "# ключевой инструкцией def определяем функцию с параметрами\n",
    "def mpendl(graphics_quality, x_max, d_pend, m_pend, lenght_pend):\n",
    "# создание переменной fig, ссылающейся на объект figure - холст для графиков\n",
    "# создание переменной ax, ссылающейся на объект axec - двухмерный график с осями\n",
    "    fig, ax = plt.subplots()\n",
    "\n",
    "# часть задания начальных условий\n",
    "# начальное положение маятника, начальная амплитуда\n",
    "    y0 = 0.5\n",
    "# ускорение свободного падения\n",
    "    g = 9.81\n",
    "# основная частота - частота иделального маятника без затуханий\n",
    "    omega0 = np.sqrt(g/lenght_pend)\n",
    "# характеристика затухания маятника\n",
    "    n_sredy = 1.8*10**(-5)\n",
    "    beta = 3*np.pi*d_pend*n_sredy\n",
    "    delta = beta / (2*m_pend)\n",
    "# задание минимальной точности а значит и качества диаграммы по теореме Котельникова\n",
    "# при этом имеет смысл взять с запасом например в 3 раза, так как теорема Котельникова\n",
    "# предполгагет восстаналивать сигнал синусоидой, а matlpotlib восстанавиливает линейной функцией\n",
    "# то надо еще делить период дискретизации хот бы на три, что бы на возрастающем участке бвло, на убывающем\n",
    "# и где то около экстремума\n",
    "    k_quality = 3*x_max*omega0/np.pi\n",
    "\n",
    "# расчетная часть\n",
    "# создается одномерный массив значений по оси x (нач.знач, конеч.знач, количество значений)\n",
    "    x = np.linspace(0, x_max, int(graphics_quality*k_quality))\n",
    "# расчет массива значений оси у по формулам математического затухающего маятника\n",
    "    y = y0*np.exp(-delta*x)*np.cos(np.sqrt(omega0**2 - delta**2)*x)\n",
    "# построение графика по начниям\n",
    "    ax.plot(x, y)"
   ]
  },
  {
   "cell_type": "code",
   "execution_count": null,
   "id": "7564a4c3-afa6-44e5-a661-485a1bd5fe0e",
   "metadata": {},
   "outputs": [],
   "source": []
  }
 ],
 "metadata": {
  "kernelspec": {
   "display_name": "Python 3 (ipykernel)",
   "language": "python",
   "name": "python3"
  },
  "language_info": {
   "codemirror_mode": {
    "name": "ipython",
    "version": 3
   },
   "file_extension": ".py",
   "mimetype": "text/x-python",
   "name": "python",
   "nbconvert_exporter": "python",
   "pygments_lexer": "ipython3",
   "version": "3.9.2"
  }
 },
 "nbformat": 4,
 "nbformat_minor": 5
}
