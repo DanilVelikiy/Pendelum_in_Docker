{
 "cells": [
  {
   "cell_type": "code",
   "execution_count": 37,
   "id": "97fb5a63-195d-49e9-a64a-ae2f9cab8451",
   "metadata": {},
   "outputs": [
    {
     "data": {
      "application/vnd.jupyter.widget-view+json": {
       "model_id": "4e95fce348a245629e07262e90484606",
       "version_major": 2,
       "version_minor": 0
      },
      "text/plain": [
       "interactive(children=(IntSlider(value=4910, description='x_max', max=10000, min=10, step=100), FloatSlider(val…"
      ]
     },
     "metadata": {},
     "output_type": "display_data"
    }
   ],
   "source": [
    "# команда установления бэкенда matplotlib как встроенного бэкенда,\n",
    "# что позволяет выводить графики в этом же ноутбуке под кодом\n",
    "%matplotlib inline\n",
    "# подключение интерфейса ползунков из библиотеки пользовательских интерфейсов\n",
    "from ipywidgets import interact\n",
    "# импортируем модуль pyplot для построения графиков из библиотеки matplotlib\n",
    "import matplotlib.pyplot as plt\n",
    "# импортируем библиотеку математических вычислений numpy\n",
    "import numpy as np\n",
    "# декоратор, оборачиваем функцию построения маятника в функцию интерактивного ползунка\n",
    "# задаем диапазоны (min, max, step)\n",
    "# beta - характеристика среды определяющая насколько сильным будет затухание\n",
    "# m_pend - масса тела на подвесе\n",
    "# lenght_pend - длина подвеса математического маятника\n",
    "@interact (x_max=(10, 10000, 100), d_pend = (0.001, 0.5, 0.001), m_pend = (0.1, 10, 0.1), lenght_pend = (0.1, 10, 0.1), x_begin=(0, 10000, 10), x_weight = (10, 9000, 10))\n",
    "\n",
    "# ключевой инструкцией def определяем функцию с параметрами\n",
    "def mpendl(x_max, d_pend, m_pend = 0.1, lenght_pend = 1, x_begin = 0, x_weight = 4910):\n",
    "# создание переменной fig, ссылающейся на объект figure - холст для графиков\n",
    "# создание переменной ax, ссылающейся на объект axec - двухмерный график с осями\n",
    "    fig, ax = plt.subplots()\n",
    "# уберем заголовок \"холста\"\n",
    "    fig.canvas.header_visible = False\n",
    "# зададим размеры \"холста\"\n",
    "    fig.set_figheight(4.5)\n",
    "    fig.set_figwidth(14.5)\n",
    "# часть задания начальных условий\n",
    "# начальное положение маятника, начальная амплитуда\n",
    "    y0 = 0.5\n",
    "# ускорение свободного падения\n",
    "    g = 9.81\n",
    "# основная частота - частота иделального маятника без затуханий\n",
    "    omega0 = np.sqrt(g/lenght_pend)\n",
    "# характеристика затухания маятника\n",
    "    n_sredy = 1.8*10**(-5)\n",
    "    beta = 3*np.pi*d_pend*n_sredy\n",
    "    delta = beta / (2*m_pend)\n",
    "# для расчета количества точек использована теорема о погрешности для кусочно-линейной интерполяции\n",
    "# |f(x) - F(x)| ≤ M2*h**2/2\n",
    "# eps - задаваемая относительная погрешность\n",
    "    eps = 0.03\n",
    "    n_point = omega0*x_max*np.sqrt(1/(2*eps))\n",
    "# расчетная часть\n",
    "# создается одномерный массив значений по оси x (нач.знач, конеч.знач, количество значений)\n",
    "    x = np.linspace(0, x_max, int(n_point))\n",
    "# расчет массива значений оси у по формулам математического затухающего маятника\n",
    "    y = y0*np.exp(-delta*x)*np.cos(np.sqrt(omega0**2 - delta**2)*x)\n",
    "# подписываем ось абцисс\n",
    "    ax.set_xlabel('Время (с)', fontsize = 14, fontweight = 'bold')\n",
    "# подписываем ось оридинат\n",
    "    ax.set_ylabel('Амплитуда (м)', fontsize = 14, fontweight = 'bold')\n",
    "# подпишем график\n",
    "    ax.set_title('График затухающего математического маятника', fontsize = 14, fontweight = 'bold')\n",
    "# построение графика по начниям\n",
    "    ax.plot(x, y)\n",
    "    plt.xlim(x_begin, x_begin+x_weight)"
   ]
  },
  {
   "cell_type": "code",
   "execution_count": null,
   "id": "c8401bf0-8e80-4ee1-8e21-291950d73733",
   "metadata": {},
   "outputs": [],
   "source": []
  }
 ],
 "metadata": {
  "kernelspec": {
   "display_name": "Python 3 (ipykernel)",
   "language": "python",
   "name": "python3"
  },
  "language_info": {
   "codemirror_mode": {
    "name": "ipython",
    "version": 3
   },
   "file_extension": ".py",
   "mimetype": "text/x-python",
   "name": "python",
   "nbconvert_exporter": "python",
   "pygments_lexer": "ipython3",
   "version": "3.9.7"
  }
 },
 "nbformat": 4,
 "nbformat_minor": 5
}
